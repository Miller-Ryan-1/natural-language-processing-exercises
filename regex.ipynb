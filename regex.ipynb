{
 "cells": [
  {
   "cell_type": "markdown",
   "id": "f23a821e",
   "metadata": {},
   "source": [
    "# Regex Notebook\n",
    "### Uses functions written in regex.py"
   ]
  },
  {
   "cell_type": "code",
   "execution_count": 1,
   "id": "cbda3d5e",
   "metadata": {},
   "outputs": [],
   "source": [
    "import regex"
   ]
  },
  {
   "cell_type": "code",
   "execution_count": 2,
   "id": "2ee00163",
   "metadata": {},
   "outputs": [],
   "source": [
    "import pandas as pd\n",
    "import numpy as np\n",
    "import re"
   ]
  },
  {
   "cell_type": "markdown",
   "id": "79a3dd16",
   "metadata": {},
   "source": [
    "## 1. Write a function named is_vowel. It should accept a string as input and use a regular expression to determine if the passed string is a vowel. While not explicity mentioned in the lesson, you can treat the result of re.search as a boolean value that indicates whether or not the regular expression matches the given string."
   ]
  },
  {
   "cell_type": "code",
   "execution_count": 3,
   "id": "d21e5660",
   "metadata": {},
   "outputs": [
    {
     "name": "stdout",
     "output_type": "stream",
     "text": [
      "False\n",
      "False\n",
      "True\n",
      "True\n",
      "False\n",
      "False\n"
     ]
    }
   ],
   "source": [
    "string1 = \"asdfsdfsd452\"\n",
    "string2 = \"p\"\n",
    "string3 = 'u'\n",
    "string4 = 'E'\n",
    "string5 = 'a ea'\n",
    "string6 = 'a beat'\n",
    "\n",
    "for i in [string1,string2,string3, string4, string5, string6]:\n",
    "    x =  regex.is_vowel(i)\n",
    "    print(x)"
   ]
  },
  {
   "cell_type": "markdown",
   "id": "c04606af",
   "metadata": {},
   "source": [
    "Function = is_vowel(string)"
   ]
  },
  {
   "cell_type": "markdown",
   "id": "7566150d",
   "metadata": {},
   "source": [
    "## 2. Write a function named is_valid_username that accepts a string as input. A valid username starts with a lowercase letter, and only consists of lowercase letters, numbers, or the _ character. It should also be no longer than 32 characters. The function should return either True or False depending on whether the passed string is a valid username."
   ]
  },
  {
   "cell_type": "code",
   "execution_count": 4,
   "id": "22a2d22a",
   "metadata": {},
   "outputs": [
    {
     "data": {
      "text/plain": [
       "False"
      ]
     },
     "execution_count": 4,
     "metadata": {},
     "output_type": "execute_result"
    }
   ],
   "source": [
    "regex.is_valid_username('aaaaaaaaaaaaaaaaaaaaaaaaaaaaaaaaa')"
   ]
  },
  {
   "cell_type": "code",
   "execution_count": 5,
   "id": "4c55aa5b",
   "metadata": {},
   "outputs": [
    {
     "data": {
      "text/plain": [
       "True"
      ]
     },
     "execution_count": 5,
     "metadata": {},
     "output_type": "execute_result"
    }
   ],
   "source": [
    "regex.is_valid_username('codeup')"
   ]
  },
  {
   "cell_type": "code",
   "execution_count": 6,
   "id": "57110fe5",
   "metadata": {},
   "outputs": [
    {
     "data": {
      "text/plain": [
       "False"
      ]
     },
     "execution_count": 6,
     "metadata": {},
     "output_type": "execute_result"
    }
   ],
   "source": [
    "regex.is_valid_username('Codeup')"
   ]
  },
  {
   "cell_type": "code",
   "execution_count": 7,
   "id": "4c134661",
   "metadata": {},
   "outputs": [
    {
     "data": {
      "text/plain": [
       "True"
      ]
     },
     "execution_count": 7,
     "metadata": {},
     "output_type": "execute_result"
    }
   ],
   "source": [
    "regex.is_valid_username('codeup123')"
   ]
  },
  {
   "cell_type": "code",
   "execution_count": 8,
   "id": "89e0cbcc",
   "metadata": {},
   "outputs": [
    {
     "data": {
      "text/plain": [
       "False"
      ]
     },
     "execution_count": 8,
     "metadata": {},
     "output_type": "execute_result"
    }
   ],
   "source": [
    "regex.is_valid_username('1codeup')"
   ]
  },
  {
   "cell_type": "code",
   "execution_count": 9,
   "id": "026b8fac",
   "metadata": {},
   "outputs": [
    {
     "data": {
      "text/plain": [
       "True"
      ]
     },
     "execution_count": 9,
     "metadata": {},
     "output_type": "execute_result"
    }
   ],
   "source": [
    "regex.is_valid_username('r')"
   ]
  },
  {
   "cell_type": "markdown",
   "id": "7f1a81c4",
   "metadata": {},
   "source": [
    "## 3. Write a regular expression to capture phone numbers. It should match all of the following:"
   ]
  },
  {
   "cell_type": "markdown",
   "id": "ff47f5e1",
   "metadata": {},
   "source": [
    "- (210) 867 5309\n",
    "- +1 210.867.5309\n",
    "- 867-5309\n",
    "- 210-867-5309"
   ]
  },
  {
   "cell_type": "markdown",
   "id": "3275705d",
   "metadata": {},
   "source": [
    "##### This is freaking hard!  Will do a not fully excellent attempt, although with function should make it work:"
   ]
  },
  {
   "cell_type": "code",
   "execution_count": 10,
   "id": "11213a8a",
   "metadata": {},
   "outputs": [],
   "source": [
    "n1 = '(210) 867 5309'\n",
    "n2 = '+1 210.867.5309'\n",
    "n3 = '867-5309'\n",
    "n4 = '210-867-5309'\n",
    "n5 = '+1 (23) 234 44322'\n",
    "n6 = 'hsjdfh 34 3ih 23 2323'"
   ]
  },
  {
   "cell_type": "code",
   "execution_count": 22,
   "id": "41424dca",
   "metadata": {},
   "outputs": [],
   "source": [
    "# Regex that works for this, following RMcC walkthrough\n",
    "# (\\+?\\d+)?.?(\\(?\\d{3}\\)?)?.?\\d{3}.\\d{4}"
   ]
  },
  {
   "cell_type": "code",
   "execution_count": 11,
   "id": "329f4ced",
   "metadata": {},
   "outputs": [
    {
     "data": {
      "text/plain": [
       "['234', '44322']"
      ]
     },
     "execution_count": 11,
     "metadata": {},
     "output_type": "execute_result"
    }
   ],
   "source": [
    "re.findall(r'(\\d\\d\\d+)',n5)"
   ]
  },
  {
   "cell_type": "code",
   "execution_count": 12,
   "id": "25e0d949",
   "metadata": {},
   "outputs": [
    {
     "name": "stdout",
     "output_type": "stream",
     "text": [
      "Good\n",
      "Fails, too big\n"
     ]
    }
   ],
   "source": [
    "x = re.findall(r'(\\d\\d\\d+)',n5)\n",
    "if (len(x[-2]) > len(x[-1])):\n",
    "    print('Fails last bigger than first')\n",
    "    #return False\n",
    "    \n",
    "else: \n",
    "    for i in x:\n",
    "        if (len(i) < 3):\n",
    "            print('Fails, too small')\n",
    "            #return False\n",
    "        if (len(i) > 4):\n",
    "            print('Fails, too big')\n",
    "            #return False\n",
    "        else:\n",
    "            print('Good')\n",
    "            #return True"
   ]
  },
  {
   "cell_type": "code",
   "execution_count": 13,
   "id": "4b1a7655",
   "metadata": {},
   "outputs": [
    {
     "name": "stdout",
     "output_type": "stream",
     "text": [
      "True\n",
      "True\n",
      "True\n",
      "True\n",
      "False\n",
      "False\n"
     ]
    }
   ],
   "source": [
    "for n in [n1,n2,n3,n4,n5,n6]:\n",
    "    print(regex.phone_capture(n))"
   ]
  },
  {
   "cell_type": "markdown",
   "id": "36b58005",
   "metadata": {},
   "source": [
    "## 4. Use regular expressions to convert the dates below to the standardized year-month-day format:"
   ]
  },
  {
   "cell_type": "code",
   "execution_count": 23,
   "id": "a137d311",
   "metadata": {},
   "outputs": [],
   "source": [
    "datelist = ['02/04/19',\n",
    "'02/05/19',\n",
    "'02/06/19',\n",
    "'02/07/19',\n",
    "'02/08/19',\n",
    "'02/09/19',\n",
    "'02/10/19']"
   ]
  },
  {
   "cell_type": "code",
   "execution_count": 25,
   "id": "16f1dfde",
   "metadata": {
    "scrolled": true
   },
   "outputs": [
    {
     "name": "stdout",
     "output_type": "stream",
     "text": [
      "2019-02-04\n",
      "2019-02-05\n",
      "2019-02-06\n",
      "2019-02-07\n",
      "2019-02-08\n",
      "2019-02-09\n",
      "2019-02-10\n"
     ]
    }
   ],
   "source": [
    "for d in datelist:\n",
    "    if re.search(r'\\d\\d\\/\\d\\d/\\d\\d',d):\n",
    "        print(f'20{d[-2:]}-{d[:2]}-{d[3:5]}')"
   ]
  },
  {
   "cell_type": "markdown",
   "id": "e8f43ecf",
   "metadata": {},
   "source": [
    "##### Very cool way of converting patterns using regex and pandas!:"
   ]
  },
  {
   "cell_type": "code",
   "execution_count": 26,
   "id": "aec8ad4b",
   "metadata": {},
   "outputs": [
    {
     "data": {
      "text/plain": [
       "0    02/04/19\n",
       "1    02/05/19\n",
       "2    02/06/19\n",
       "3    02/07/19\n",
       "4    02/08/19\n",
       "5    02/09/19\n",
       "6    02/10/19\n",
       "dtype: object"
      ]
     },
     "execution_count": 26,
     "metadata": {},
     "output_type": "execute_result"
    }
   ],
   "source": [
    "datelist = pd.Series(datelist)\n",
    "datelist"
   ]
  },
  {
   "cell_type": "code",
   "execution_count": 27,
   "id": "08d511f9",
   "metadata": {},
   "outputs": [
    {
     "name": "stderr",
     "output_type": "stream",
     "text": [
      "/var/folders/nw/8yyyyp8n70vbplhdsylyqs8c0000gn/T/ipykernel_18190/3852574326.py:1: FutureWarning: The default value of regex will change from True to False in a future version.\n",
      "  datelist.str.replace(r'(\\d{2})/(\\d{2})/(\\d{2})', r'20\\3-\\1-\\2')\n"
     ]
    },
    {
     "data": {
      "text/plain": [
       "0    2019-02-04\n",
       "1    2019-02-05\n",
       "2    2019-02-06\n",
       "3    2019-02-07\n",
       "4    2019-02-08\n",
       "5    2019-02-09\n",
       "6    2019-02-10\n",
       "dtype: object"
      ]
     },
     "execution_count": 27,
     "metadata": {},
     "output_type": "execute_result"
    }
   ],
   "source": [
    "datelist.str.replace(r'(\\d{2})/(\\d{2})/(\\d{2})', r'20\\3-\\1-\\2')"
   ]
  },
  {
   "cell_type": "markdown",
   "id": "36249928",
   "metadata": {},
   "source": [
    "## 5. Write a regex to extract the various parts of these logfile lines:"
   ]
  },
  {
   "cell_type": "code",
   "execution_count": 16,
   "id": "3cb72606",
   "metadata": {},
   "outputs": [],
   "source": [
    "l1 = 'GET /api/v1/sales?page=86 [16/Apr/2019:193452+0000] HTTP/1.1 {200} 510348 \"python-requests/2.21.0\" 97.105.19.58'\n",
    "l2 = 'POST /users_accounts/file-upload [16/Apr/2019:193452+0000] HTTP/1.1 {201} 42 \"User-Agent: Mozilla/5.0 (X11; Fedora; Fedora; Linux x86_64) AppleWebKit/537.36 (KHTML, like Gecko) Chrome/73.0.3683.86 Safari/537.36\" 97.105.19.58'\n",
    "l3 = 'GET /api/v1/items?page=3 [16/Apr/2019:193453+0000] HTTP/1.1 {429} 3561 \"python-requests/2.21.0\" 97.105.19.58'"
   ]
  },
  {
   "cell_type": "code",
   "execution_count": 17,
   "id": "9c04f654",
   "metadata": {},
   "outputs": [],
   "source": [
    "logfiles = [l1,l2,l3]"
   ]
  },
  {
   "cell_type": "code",
   "execution_count": 41,
   "id": "f468750f",
   "metadata": {},
   "outputs": [],
   "source": [
    "logfiles = pd.Series(logfiles)"
   ]
  },
  {
   "cell_type": "code",
   "execution_count": 52,
   "id": "d2630542",
   "metadata": {},
   "outputs": [
    {
     "data": {
      "text/html": [
       "<div>\n",
       "<style scoped>\n",
       "    .dataframe tbody tr th:only-of-type {\n",
       "        vertical-align: middle;\n",
       "    }\n",
       "\n",
       "    .dataframe tbody tr th {\n",
       "        vertical-align: top;\n",
       "    }\n",
       "\n",
       "    .dataframe thead th {\n",
       "        text-align: right;\n",
       "    }\n",
       "</style>\n",
       "<table border=\"1\" class=\"dataframe\">\n",
       "  <thead>\n",
       "    <tr style=\"text-align: right;\">\n",
       "      <th></th>\n",
       "      <th>method</th>\n",
       "      <th>path</th>\n",
       "      <th>timestamp</th>\n",
       "      <th>thing</th>\n",
       "      <th>thing2</th>\n",
       "      <th>memuse</th>\n",
       "      <th>something</th>\n",
       "      <th>ip</th>\n",
       "    </tr>\n",
       "  </thead>\n",
       "  <tbody>\n",
       "    <tr>\n",
       "      <th>0</th>\n",
       "      <td>GET</td>\n",
       "      <td>/api/v1/sales?page=86</td>\n",
       "      <td>[16/Apr/2019:193452+0000]</td>\n",
       "      <td>HTTP/1.1</td>\n",
       "      <td>{200}</td>\n",
       "      <td>510348</td>\n",
       "      <td>\"python-requests/2.21.0\"</td>\n",
       "      <td>97.105.19.58</td>\n",
       "    </tr>\n",
       "    <tr>\n",
       "      <th>1</th>\n",
       "      <td>POST</td>\n",
       "      <td>/users_accounts/file-upload</td>\n",
       "      <td>[16/Apr/2019:193452+0000]</td>\n",
       "      <td>HTTP/1.1</td>\n",
       "      <td>{201}</td>\n",
       "      <td>42</td>\n",
       "      <td>\"User-Agent: Mozilla/5.0 (X11; Fedora; Fedora;...</td>\n",
       "      <td>97.105.19.58</td>\n",
       "    </tr>\n",
       "    <tr>\n",
       "      <th>2</th>\n",
       "      <td>GET</td>\n",
       "      <td>/api/v1/items?page=3</td>\n",
       "      <td>[16/Apr/2019:193453+0000]</td>\n",
       "      <td>HTTP/1.1</td>\n",
       "      <td>{429}</td>\n",
       "      <td>3561</td>\n",
       "      <td>\"python-requests/2.21.0\"</td>\n",
       "      <td>97.105.19.58</td>\n",
       "    </tr>\n",
       "  </tbody>\n",
       "</table>\n",
       "</div>"
      ],
      "text/plain": [
       "  method                         path                  timestamp     thing  \\\n",
       "0    GET        /api/v1/sales?page=86  [16/Apr/2019:193452+0000]  HTTP/1.1   \n",
       "1   POST  /users_accounts/file-upload  [16/Apr/2019:193452+0000]  HTTP/1.1   \n",
       "2    GET         /api/v1/items?page=3  [16/Apr/2019:193453+0000]  HTTP/1.1   \n",
       "\n",
       "  thing2  memuse                                          something  \\\n",
       "0  {200}  510348                           \"python-requests/2.21.0\"   \n",
       "1  {201}      42  \"User-Agent: Mozilla/5.0 (X11; Fedora; Fedora;...   \n",
       "2  {429}    3561                           \"python-requests/2.21.0\"   \n",
       "\n",
       "             ip  \n",
       "0  97.105.19.58  \n",
       "1  97.105.19.58  \n",
       "2  97.105.19.58  "
      ]
     },
     "execution_count": 52,
     "metadata": {},
     "output_type": "execute_result"
    }
   ],
   "source": [
    "logfiles.str.extract(pattern, re.VERBOSE)"
   ]
  },
  {
   "cell_type": "code",
   "execution_count": 51,
   "id": "9398b547",
   "metadata": {},
   "outputs": [],
   "source": [
    "pattern = r'''\n",
    "^(?P<method>GET|POST)\n",
    "\\s\n",
    "(?P<path>.+)\n",
    "\\s\n",
    "(?P<timestamp>\\[.*\\])\n",
    "\\s\n",
    "(?P<thing>.*)\n",
    "\\s\n",
    "(?P<thing2>\\{\\d\\d\\d\\})\n",
    "\\s\n",
    "(?P<memuse>\\d+)\n",
    "\\s\n",
    "(?P<something>\\\".*\\\")\n",
    "\\s\n",
    "(?P<ip>\\d+.\\d+.\\d+.\\d+)\n",
    "'''"
   ]
  },
  {
   "cell_type": "markdown",
   "id": "ded54e85",
   "metadata": {},
   "source": [
    "## BONUS - You can find a list of words on your mac at /usr/share/dict/words. Use this file to answer the following questions:"
   ]
  },
  {
   "cell_type": "code",
   "execution_count": 49,
   "id": "542863d4",
   "metadata": {},
   "outputs": [],
   "source": [
    "df = pd.read_csv('/usr/share/dict/words', keep_default_na = False)"
   ]
  },
  {
   "cell_type": "code",
   "execution_count": 50,
   "id": "cc97f106",
   "metadata": {},
   "outputs": [
    {
     "data": {
      "text/html": [
       "<div>\n",
       "<style scoped>\n",
       "    .dataframe tbody tr th:only-of-type {\n",
       "        vertical-align: middle;\n",
       "    }\n",
       "\n",
       "    .dataframe tbody tr th {\n",
       "        vertical-align: top;\n",
       "    }\n",
       "\n",
       "    .dataframe thead th {\n",
       "        text-align: right;\n",
       "    }\n",
       "</style>\n",
       "<table border=\"1\" class=\"dataframe\">\n",
       "  <thead>\n",
       "    <tr style=\"text-align: right;\">\n",
       "      <th></th>\n",
       "      <th>A</th>\n",
       "    </tr>\n",
       "  </thead>\n",
       "  <tbody>\n",
       "    <tr>\n",
       "      <th>0</th>\n",
       "      <td>a</td>\n",
       "    </tr>\n",
       "    <tr>\n",
       "      <th>1</th>\n",
       "      <td>aa</td>\n",
       "    </tr>\n",
       "    <tr>\n",
       "      <th>2</th>\n",
       "      <td>aal</td>\n",
       "    </tr>\n",
       "    <tr>\n",
       "      <th>3</th>\n",
       "      <td>aalii</td>\n",
       "    </tr>\n",
       "    <tr>\n",
       "      <th>4</th>\n",
       "      <td>aam</td>\n",
       "    </tr>\n",
       "    <tr>\n",
       "      <th>...</th>\n",
       "      <td>...</td>\n",
       "    </tr>\n",
       "    <tr>\n",
       "      <th>235880</th>\n",
       "      <td>zythem</td>\n",
       "    </tr>\n",
       "    <tr>\n",
       "      <th>235881</th>\n",
       "      <td>Zythia</td>\n",
       "    </tr>\n",
       "    <tr>\n",
       "      <th>235882</th>\n",
       "      <td>zythum</td>\n",
       "    </tr>\n",
       "    <tr>\n",
       "      <th>235883</th>\n",
       "      <td>Zyzomys</td>\n",
       "    </tr>\n",
       "    <tr>\n",
       "      <th>235884</th>\n",
       "      <td>Zyzzogeton</td>\n",
       "    </tr>\n",
       "  </tbody>\n",
       "</table>\n",
       "<p>235885 rows × 1 columns</p>\n",
       "</div>"
      ],
      "text/plain": [
       "                 A\n",
       "0                a\n",
       "1               aa\n",
       "2              aal\n",
       "3            aalii\n",
       "4              aam\n",
       "...            ...\n",
       "235880      zythem\n",
       "235881      Zythia\n",
       "235882      zythum\n",
       "235883     Zyzomys\n",
       "235884  Zyzzogeton\n",
       "\n",
       "[235885 rows x 1 columns]"
      ]
     },
     "execution_count": 50,
     "metadata": {},
     "output_type": "execute_result"
    }
   ],
   "source": [
    "df"
   ]
  },
  {
   "cell_type": "code",
   "execution_count": null,
   "id": "d83977cd",
   "metadata": {},
   "outputs": [],
   "source": [
    "- \n",
    "- How many words have at least 3 vowels in a row?\n",
    "- How many words have at least 4 consonants in a row?\n",
    "- How many words start and end with the same letter?\n",
    "- How many words start and end with a vowel?\n",
    "- How many words contain the same letter 3 times in a row?\n",
    "- What other interesting patterns in words can you find?"
   ]
  },
  {
   "cell_type": "markdown",
   "id": "bcb45900",
   "metadata": {},
   "source": [
    "### a) How many words have at least 3 vowels?"
   ]
  },
  {
   "cell_type": "code",
   "execution_count": 59,
   "id": "1123b3ef",
   "metadata": {},
   "outputs": [
    {
     "data": {
      "text/plain": [
       "array(['a', 'aa', 'aal', ..., 'zythum', 'Zyzomys', 'Zyzzogeton'],\n",
       "      dtype=object)"
      ]
     },
     "execution_count": 59,
     "metadata": {},
     "output_type": "execute_result"
    }
   ],
   "source": [
    "df.A.values"
   ]
  },
  {
   "cell_type": "code",
   "execution_count": 70,
   "id": "ed925e9d",
   "metadata": {},
   "outputs": [
    {
     "ename": "AttributeError",
     "evalue": "'re.Match' object has no attribute 'isnull'",
     "output_type": "error",
     "traceback": [
      "\u001b[0;31m---------------------------------------------------------------------------\u001b[0m",
      "\u001b[0;31mAttributeError\u001b[0m                            Traceback (most recent call last)",
      "\u001b[0;32m/var/folders/nw/8yyyyp8n70vbplhdsylyqs8c0000gn/T/ipykernel_18190/2605569981.py\u001b[0m in \u001b[0;36m<module>\u001b[0;34m\u001b[0m\n\u001b[1;32m      1\u001b[0m \u001b[0;32mfor\u001b[0m \u001b[0mx\u001b[0m \u001b[0;32min\u001b[0m \u001b[0mdf\u001b[0m\u001b[0;34m.\u001b[0m\u001b[0mA\u001b[0m\u001b[0;34m.\u001b[0m\u001b[0mvalues\u001b[0m\u001b[0;34m:\u001b[0m\u001b[0;34m\u001b[0m\u001b[0;34m\u001b[0m\u001b[0m\n\u001b[0;32m----> 2\u001b[0;31m     \u001b[0mdf\u001b[0m\u001b[0;34m[\u001b[0m\u001b[0;34m'Q1 Match'\u001b[0m\u001b[0;34m]\u001b[0m \u001b[0;34m=\u001b[0m \u001b[0mre\u001b[0m\u001b[0;34m.\u001b[0m\u001b[0msearch\u001b[0m\u001b[0;34m(\u001b[0m\u001b[0;34mr'[aeiouAEIOU]'\u001b[0m\u001b[0;34m,\u001b[0m\u001b[0mx\u001b[0m\u001b[0;34m)\u001b[0m\u001b[0;34m.\u001b[0m\u001b[0misnull\u001b[0m\u001b[0;34m(\u001b[0m\u001b[0;34m)\u001b[0m\u001b[0;34m\u001b[0m\u001b[0;34m\u001b[0m\u001b[0m\n\u001b[0m",
      "\u001b[0;31mAttributeError\u001b[0m: 're.Match' object has no attribute 'isnull'"
     ]
    }
   ],
   "source": [
    "for x in df.A.values:\n",
    "    df['Q1 Match'] = re.search(r'[aeiouAEIOU]',x)"
   ]
  },
  {
   "cell_type": "code",
   "execution_count": 68,
   "id": "4166bc8b",
   "metadata": {},
   "outputs": [
    {
     "data": {
      "text/plain": [
       "False    235885\n",
       "Name: Q1 Match, dtype: int64"
      ]
     },
     "execution_count": 68,
     "metadata": {},
     "output_type": "execute_result"
    }
   ],
   "source": [
    "df['Q1 Match'].value_counts()"
   ]
  }
 ],
 "metadata": {
  "kernelspec": {
   "display_name": "Python 3 (ipykernel)",
   "language": "python",
   "name": "python3"
  },
  "language_info": {
   "codemirror_mode": {
    "name": "ipython",
    "version": 3
   },
   "file_extension": ".py",
   "mimetype": "text/x-python",
   "name": "python",
   "nbconvert_exporter": "python",
   "pygments_lexer": "ipython3",
   "version": "3.9.7"
  }
 },
 "nbformat": 4,
 "nbformat_minor": 5
}
