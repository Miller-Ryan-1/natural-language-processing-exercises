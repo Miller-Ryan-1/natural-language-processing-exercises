{
 "cells": [
  {
   "cell_type": "markdown",
   "id": "dfdec713",
   "metadata": {},
   "source": [
    "# By the end of this exercise, you should have a file named acquire.py that contains the specified functions. If you wish, you may break your work into separate files for each website (e.g. acquire_codeup_blog.py and acquire_news_articles.py), but the end function should be present in acquire.py (that is, acquire.py should import get_blog_articles from the acquire_codeup_blog module.)"
   ]
  },
  {
   "cell_type": "code",
   "execution_count": 1,
   "id": "ef6fc4c4",
   "metadata": {},
   "outputs": [],
   "source": [
    "import pandas as pd\n",
    "import numpy as np\n",
    "import re\n",
    "import requests\n",
    "from bs4 import BeautifulSoup as bs"
   ]
  },
  {
   "cell_type": "markdown",
   "id": "3a7da8b0",
   "metadata": {},
   "source": [
    "##  1. Scrape Codeup's Blog and record the urls for at least 5 distinct blog posts. For each post, you should scrape at least the post's title and content.\n",
    "\n",
    "## Encapsulate your work in a function named get_blog_articles that will return a list of dictionaries, with each dictionary representing one article. The shape of each dictionary should look like this:"
   ]
  },
  {
   "cell_type": "code",
   "execution_count": 4,
   "id": "68a3460a",
   "metadata": {},
   "outputs": [],
   "source": [
    "headers = {'User-Agent': 'Codeup Data Science'}"
   ]
  },
  {
   "cell_type": "code",
   "execution_count": 2,
   "id": "15e03422",
   "metadata": {},
   "outputs": [],
   "source": [
    "# {\n",
    "#     'title': 'the title of the article',\n",
    "#     'content': 'the full text content of the article'\n",
    "# }"
   ]
  },
  {
   "cell_type": "code",
   "execution_count": 6,
   "id": "38489bd5",
   "metadata": {},
   "outputs": [],
   "source": [
    "r = requests.get('https://codeup.com/blog/', headers = headers)"
   ]
  },
  {
   "cell_type": "code",
   "execution_count": 9,
   "id": "670c9616",
   "metadata": {},
   "outputs": [],
   "source": [
    "# Make a soup variable holding the response content\n",
    "soup = bs(r.content, 'html.parser')"
   ]
  },
  {
   "cell_type": "code",
   "execution_count": 24,
   "id": "76b41422",
   "metadata": {},
   "outputs": [],
   "source": [
    "#creates a random array of 5 different integers between 1 and 15 (the size of the nuber of articles).  Then subtract 1 from \n",
    "a = range(15)\n",
    "blog_posts = np.random.choice(a, size=5, replace=False, p=None)\n",
    "blog_posts = blog_posts\n",
    "blog_posts = list(blog_posts)"
   ]
  },
  {
   "cell_type": "code",
   "execution_count": null,
   "id": "127414cc",
   "metadata": {},
   "outputs": [],
   "source": [
    "# Use the arrays to go into a specific blog post, then from there grab the details we want:\n",
    "# h1 class = entry-title gets the title\n",
    "# span class = published for date published\n",
    "# div class \"entry-content\""
   ]
  },
  {
   "cell_type": "code",
   "execution_count": 27,
   "id": "1d060a52",
   "metadata": {},
   "outputs": [
    {
     "data": {
      "text/plain": [
       "[<h2 class=\"entry-title\"><a href=\"https://codeup.com/featured/what-jobs-can-you-get-after-a-coding-bootcamp-part-2-cloud-administration/\">What Jobs Can You Get After a Coding Bootcamp? Part 2: Cloud Administration</a></h2>,\n",
       " <h2 class=\"entry-title\"><a href=\"https://codeup.com/data-science/jobs-after-a-coding-bootcamp-part-1-data-science/\">What Jobs Can You Get After a Coding Bootcamp? Part 1: Data Science</a></h2>,\n",
       " <h2 class=\"entry-title\"><a href=\"https://codeup.com/workshops/san-antonio/in-person-workshop-learn-to-code-javascript-on-7-26/\">In-Person Workshop: Learn to Code – JavaScript on 7/26</a></h2>,\n",
       " <h2 class=\"entry-title\"><a href=\"https://codeup.com/workshops/in-person-workshop-learn-to-code-python-on-7-19/\">In-Person Workshop: Learn to Code – Python on 7/19</a></h2>,\n",
       " <h2 class=\"entry-title\"><a href=\"https://codeup.com/workshops/dallas/free-javascript-workshop-at-codeup-dallas-on-6-28/\">Free JavaScript Workshop at Codeup Dallas on 6/28</a></h2>,\n",
       " <h2 class=\"entry-title\"><a href=\"https://codeup.com/tips-for-prospective-students/is-our-cloud-administration-program-right-for-you/\">Is Our Cloud Administration Program Right for You?</a></h2>,\n",
       " <h2 class=\"entry-title\"><a href=\"https://codeup.com/workshops/pride-in-tech-panel/\">PRIDE in Tech Panel</a></h2>,\n",
       " <h2 class=\"entry-title\"><a href=\"https://codeup.com/codeup-news/inclusion-at-codeup-during-pride-month-and-always/\">Inclusion at Codeup During Pride Month (and Always)</a></h2>,\n",
       " <h2 class=\"entry-title\"><a href=\"https://codeup.com/tips-for-prospective-students/mental-health-first-aid-training/\">Mental Health First Aid Training</a></h2>,\n",
       " <h2 class=\"entry-title\"><a href=\"https://codeup.com/workshops/codeup-dallas-how-to-succeed-at-a-coding-bootcamp-on-june-9th/\">Codeup Dallas: How to Succeed at a Coding Bootcamp on June 9th</a></h2>,\n",
       " <h2 class=\"entry-title\"><a href=\"https://codeup.com/featured/5-reasons-to-attend-our-new-cloud-administration-program/\">5 Reasons To Attend Our New Cloud Administration Program</a></h2>,\n",
       " <h2 class=\"entry-title\"><a href=\"https://codeup.com/workshops/learn-to-code-python-on-5-21/\">Learn to Code: Python on 5/21</a></h2>,\n",
       " <h2 class=\"entry-title\"><a href=\"https://codeup.com/dallas-newsletter/codeup-dallas-joins-career-day/\">Codeup Dallas Joins Career Day</a></h2>,\n",
       " <h2 class=\"entry-title\"><a href=\"https://codeup.com/workshops/project-quest-info-session-may-24th/\">Project Quest Info Session: IT Jumpstart on May 24th</a></h2>,\n",
       " <h2 class=\"entry-title\"><a href=\"https://codeup.com/workshops/from-bootcamp-to-bootcamp-a-military-appreciation-panel/\">From Bootcamp to Bootcamp | A Military Appreciation Panel</a></h2>,\n",
       " <h2 class=\"entry-title\"><a href=\"https://codeup.com/featured/our-acquisition-of-the-rackspace-cloud-academy-one-year-later/\">Our Acquisition of the Rackspace Cloud Academy: One Year Later</a></h2>,\n",
       " <h2 class=\"entry-title\"><a href=\"https://codeup.com/workshops/virtual/learn-to-code-html-css-on-4-30/\">Learn to Code: HTML &amp; CSS on 4/30</a></h2>,\n",
       " <h2 class=\"entry-title\"><a href=\"https://codeup.com/workshops/virtual/learn-to-code-python-workshop-on-4-16/\">Learn to Code: Python Workshop on 4/23</a></h2>]"
      ]
     },
     "execution_count": 27,
     "metadata": {},
     "output_type": "execute_result"
    }
   ],
   "source": [
    "blog_list = soup.find_all('h2', attrs={'class':'entry-title'})\n",
    "blog_list"
   ]
  },
  {
   "cell_type": "code",
   "execution_count": 42,
   "id": "1e104270",
   "metadata": {},
   "outputs": [
    {
     "data": {
      "text/plain": [
       "['https://codeup.com/dallas-newsletter/codeup-dallas-joins-career-day/',\n",
       " 'https://codeup.com/featured/what-jobs-can-you-get-after-a-coding-bootcamp-part-2-cloud-administration/',\n",
       " 'https://codeup.com/workshops/in-person-workshop-learn-to-code-python-on-7-19/',\n",
       " 'https://codeup.com/workshops/codeup-dallas-how-to-succeed-at-a-coding-bootcamp-on-june-9th/',\n",
       " 'https://codeup.com/data-science/jobs-after-a-coding-bootcamp-part-1-data-science/']"
      ]
     },
     "execution_count": 42,
     "metadata": {},
     "output_type": "execute_result"
    }
   ],
   "source": [
    "blog_links = []\n",
    "for n in blog_posts:\n",
    "    blog = blog_list[n]\n",
    "    blog_links.append(blog.a[\"href\"])\n",
    "blog_links"
   ]
  },
  {
   "cell_type": "code",
   "execution_count": 50,
   "id": "2b96cf12",
   "metadata": {},
   "outputs": [
    {
     "data": {
      "text/html": [
       "<div>\n",
       "<style scoped>\n",
       "    .dataframe tbody tr th:only-of-type {\n",
       "        vertical-align: middle;\n",
       "    }\n",
       "\n",
       "    .dataframe tbody tr th {\n",
       "        vertical-align: top;\n",
       "    }\n",
       "\n",
       "    .dataframe thead th {\n",
       "        text-align: right;\n",
       "    }\n",
       "</style>\n",
       "<table border=\"1\" class=\"dataframe\">\n",
       "  <thead>\n",
       "    <tr style=\"text-align: right;\">\n",
       "      <th></th>\n",
       "      <th>Published</th>\n",
       "      <th>Content</th>\n",
       "    </tr>\n",
       "    <tr>\n",
       "      <th>Title</th>\n",
       "      <th></th>\n",
       "      <th></th>\n",
       "    </tr>\n",
       "  </thead>\n",
       "  <tbody>\n",
       "    <tr>\n",
       "      <th>Codeup Dallas Joins Career Day</th>\n",
       "      <td>May 16, 2022</td>\n",
       "      <td>Last week our Codeup Dallas team participated ...</td>\n",
       "    </tr>\n",
       "    <tr>\n",
       "      <th>What Jobs Can You Get After a Coding Bootcamp? Part 2: Cloud Administration</th>\n",
       "      <td>Jul 14, 2022</td>\n",
       "      <td>Have you been considering a career in Cloud Ad...</td>\n",
       "    </tr>\n",
       "    <tr>\n",
       "      <th>In-Person Workshop: Learn to Code – Python on 7/19</th>\n",
       "      <td>Jun 20, 2022</td>\n",
       "      <td>According to LinkedIn, the “#1 Most Promising ...</td>\n",
       "    </tr>\n",
       "    <tr>\n",
       "      <th>Codeup Dallas: How to Succeed at a Coding Bootcamp on June 9th</th>\n",
       "      <td>May 23, 2022</td>\n",
       "      <td>This event is the perfect opportunity for peop...</td>\n",
       "    </tr>\n",
       "    <tr>\n",
       "      <th>What Jobs Can You Get After a Coding Bootcamp? Part 1: Data Science</th>\n",
       "      <td>Jul 7, 2022</td>\n",
       "      <td>If you are interested in embarking on a career...</td>\n",
       "    </tr>\n",
       "  </tbody>\n",
       "</table>\n",
       "</div>"
      ],
      "text/plain": [
       "                                                       Published  \\\n",
       "Title                                                              \n",
       "Codeup Dallas Joins Career Day                      May 16, 2022   \n",
       "What Jobs Can You Get After a Coding Bootcamp? ...  Jul 14, 2022   \n",
       "In-Person Workshop: Learn to Code – Python on 7/19  Jun 20, 2022   \n",
       "Codeup Dallas: How to Succeed at a Coding Bootc...  May 23, 2022   \n",
       "What Jobs Can You Get After a Coding Bootcamp? ...   Jul 7, 2022   \n",
       "\n",
       "                                                                                              Content  \n",
       "Title                                                                                                  \n",
       "Codeup Dallas Joins Career Day                      Last week our Codeup Dallas team participated ...  \n",
       "What Jobs Can You Get After a Coding Bootcamp? ...  Have you been considering a career in Cloud Ad...  \n",
       "In-Person Workshop: Learn to Code – Python on 7/19  According to LinkedIn, the “#1 Most Promising ...  \n",
       "Codeup Dallas: How to Succeed at a Coding Bootc...  This event is the perfect opportunity for peop...  \n",
       "What Jobs Can You Get After a Coding Bootcamp? ...  If you are interested in embarking on a career...  "
      ]
     },
     "execution_count": 50,
     "metadata": {},
     "output_type": "execute_result"
    }
   ],
   "source": [
    "# Now using the blog direct urls, build the df \n",
    "blogs_info = []\n",
    "for blog in blog_links:\n",
    "    blog_info = {}\n",
    "    r = requests.get(blog, headers = headers)\n",
    "    soup = bs(r.content, 'html.parser')\n",
    "    blog_info['Title'] = soup.find('h1', attrs = {'class':'entry-title'}).text\n",
    "    blog_info['Published'] = soup.find('span', attrs = {'class' : 'published'}).text\n",
    "    blog_info['Content'] = soup.find('div', attrs = {'class' : 'entry-content'}).text.strip()\n",
    "    blogs_info.append(blog_info)\n",
    "pd.DataFrame(blogs_info).set_index('Title')   "
   ]
  },
  {
   "cell_type": "code",
   "execution_count": 51,
   "id": "fa18ab7b",
   "metadata": {},
   "outputs": [],
   "source": [
    "from acquire import acquire_codeup_blog"
   ]
  },
  {
   "cell_type": "code",
   "execution_count": 52,
   "id": "6477cebb",
   "metadata": {
    "scrolled": true
   },
   "outputs": [
    {
     "data": {
      "text/plain": [
       "[{'Title': 'Codeup Dallas Joins Career Day',\n",
       "  'Published': 'May 16, 2022',\n",
       "  'Content': 'Last week our Codeup Dallas team participated in Career Day at James Madison High School which also included students from Lincoln High School. This Career Day was an initiative by United Way Dallas. Toyota, Goodwill, Dallas college, and the US Army we’re all in attendance as well to support the Career Day.\\xa0\\nOur team directly impacted about 60 students! We held three 45 minute sessions where we talked about the following:\\xa0\\n\\nNon-traditional career paths\\xa0\\nThe different careers in tech\\xa0\\nProvided resources for creating a solid first resume\\xa0\\nDiscussed what we each did at Codeup\\xa0\\n\\nWe wrapped up each session with a fun Kahoot review and awarded some Codeup swag to the top winners!\\xa0\\nWe want to thank United Way Dallas for having us out to support our local Dallas community. If you would like our Coduep team to come out and talk to your students about non-traditional career paths like our career accelerator programs, email us at marketing@codeup.com.\\xa0\\nCheck out more photos of the event on our Instagram page.'},\n",
       " {'Title': 'Project Quest Info Session: IT Jumpstart on May 24th',\n",
       "  'Published': 'May 11, 2022',\n",
       "  'Content': 'Join our grant partner Project Quest as they discuss the latest program we offer called IT Jumpstart! This is a great program for anyone looking to make the jump into the IT industry. This is a lunchtime event so come bring your lunch, bring your questions, and get ready to learn all about IT Jumpstart from Project Quest!'},\n",
       " {'Title': 'PRIDE in Tech Panel',\n",
       "  'Published': 'Jun 5, 2022',\n",
       "  'Content': 'In celebration of PRIDE month, join our Codeup Alumni from the LGBTQIA+ community as they discuss their careers in tech!\\nHosted by Codeup’s Katie Facemire, our panel will discuss what it was like to attend Codeup, what it’s like to work in tech, and what challenges they face working the tech community as a member of LGBTQIA+.\\xa0Joining us on the panel will be Benjamin Hodge, Natasha Rivers, and Steven Garis. As we mentioned, all three are Codeup Alumni.\\nThe panel is free to attend virtually, but you must register on the page below. Once you register we will send you the exclusive Livestream link.\\nThanks for registering and we will see you soon!'},\n",
       " {'Title': 'Free JavaScript Workshop at Codeup Dallas on 6/28',\n",
       "  'Published': 'Jun 19, 2022',\n",
       "  'Content': 'Event Info: \\nLocation – Codeup Dallas\\nTime – 6 pm \\nCome Learn JavaScript\\nJoin us for our live in-person JavaScript crash course, where we will dig into one of the fastest-growing languages in the software development industry. It’s free and open to all – you don’t need to have any previous programming knowledge to participate. \\nBy the end of the presentation, you will:\\n\\nHave a good understanding of what programming means\\nKnow what JavaScript is and how it’s used\\nThe best part: we will get our hands dirty writing some JavaScript. \\n\\nDon’t worry…we’ll walk you through every step. Come learn to code live with our very own instructor staff. Maybe this will be your jumpstart into an exciting and in-demand career…for FREE! \\nParking\\nYou can park inside our gragae at our building! Just take a ticket. Once our workshop is over you can stop by the security desk and they will validate your parking for you. \\nMust be 18+ to participate.'},\n",
       " {'Title': 'Is Our Cloud Administration Program Right for You?',\n",
       "  'Published': 'Jun 8, 2022',\n",
       "  'Content': 'Changing careers can be scary. The first thing you may be asking yourself is, “where do I begin?” If you are looking into a career in tech, but coding or statistics aren’t your thing, our brand new Cloud Administration program might be just for you!\\nWhat Exactly is Cloud Administration?\\nThe future is in the cloud! As the new way of doing business, all kinds of companies need to build or interact with cloud products. These aren’t just high-tech solutions – they’re the core of everyday products like cloud-based gaming from Xbox, collaborative work tools from Google Drive, and even music streaming services from Spotify!\\xa0A Cloud Administrator works with software developers to design, build, maintain, and optimize a cloud architecture to run software applications.\\nWhat Will You Learn?\\nJust like our Data Science and Web Development programs, the Cloud Administration program is considered a career accelerator. Unlike a traditional 4 year degree, you can complete our program in just 15 weeks! You will receive hands-on training in:\\n\\nNetworking fundamentals\\nLinux Operating System\\nWindows Operating System\\nCloud and Computer Security\\nAmazon Web Services (AWS Cloud)\\n\\nYou’ll even earn two industry-recognized certifications as an AWS Cloud Practitioner and AWS Solutions Architect Associate, fully included in your tuition. You’ll learn how each technology works together, and how they are applied to real projects by starting simple, then progressively getting more complex as you add more tools to your toolbox. We’ll teach you to build infrastructure that enables software and data science products, manage cloud deployments, and optimize for cloud performance.\\xa0\\nAs for instruction, we are dedicated to giving you the best. Your instructors are speaking from real industry experience, and are invested in every student’s success. They’re essentially your personal mentors providing on-the-ground support, making themselves accessible to you when you need them.\\xa0\\nYour Success\\nNot only will you be equipped with in-demand cloud skills, but you’ll also get professional development along the way, including help polishing your resume and LinkedIn, as well as access to our employer network. This program, with the support of our career coaches and placement team, can help you become a:\\xa0\\n\\nCloud Administrator\\nCloud Architect\\nCloud Engineer\\nCloud Network Engineer\\nCloud Security Engineer\\xa0\\n\\nYou’re not stuck in one lane when you come to Codeup. With our instructors, coaches, and placement team you can take what you learn and run with it. Cloud technology is improving every single day and this course can ensure you are at the forefront of helping build and maintain that technology.\\xa0\\nCodeup Payment Options\\nFinancing your career transition can be a bit stressful, but we never want it to stop you from changing your career and applying. We have a dedicated Financial Aid and Enrollment team to walk you through every possible option to pay for your tuition here at Codeup. Whether you are using your VA benefits, grants, loans, scholarships, or self-paying, our team will work with you to ensure you receive all forms of financial aid for which you qualify. You can change your career regardless of your financial situation.\\nWant more information on our Cloud Administration program? Check our student reviews, and our blog on 5 Reasons We Think You Should Attend the Cloud Administration program. You can do more than dream of this life-changing career – you can LIVE IT!. Our application process is the first step to beginning your journey in Cloud Administration today!'}]"
      ]
     },
     "execution_count": 52,
     "metadata": {},
     "output_type": "execute_result"
    }
   ],
   "source": [
    "acquire_codeup_blog()"
   ]
  },
  {
   "cell_type": "markdown",
   "id": "a5488aa1",
   "metadata": {},
   "source": [
    "## 2. We will now be scraping text data from inshorts, a website that provides a brief overview of many different topics.\n",
    "\n",
    "Write a function that scrapes the news articles for the following topics:\n",
    "\n",
    "- Business\n",
    "- Sports\n",
    "- Technology\n",
    "- Entertainment\n",
    "- The end product of this should be a function named get_news_articles that returns a list of dictionaries, where each dictionary has this shape:"
   ]
  },
  {
   "cell_type": "code",
   "execution_count": 53,
   "id": "3f58aea7",
   "metadata": {},
   "outputs": [],
   "source": [
    "# {\n",
    "#     'title': 'The article title',\n",
    "#     'content': 'The article content',\n",
    "#     'category': 'business' # for example\n",
    "# }"
   ]
  },
  {
   "cell_type": "code",
   "execution_count": 55,
   "id": "a59a2319",
   "metadata": {},
   "outputs": [],
   "source": [
    "# Create a target list of pages to go to to scrape relavent data\n",
    "target_list = ['business','sports','technology','entertainment']\n",
    "base_url = 'https://inshorts.com/en/read'`"
   ]
  },
  {
   "cell_type": "code",
   "execution_count": 58,
   "id": "e50d1dec",
   "metadata": {},
   "outputs": [
    {
     "data": {
      "text/plain": [
       "['https://inshorts.com/en/read/business',\n",
       " 'https://inshorts.com/en/read/sports',\n",
       " 'https://inshorts.com/en/read/technology',\n",
       " 'https://inshorts.com/en/read/entertainment']"
      ]
     },
     "execution_count": 58,
     "metadata": {},
     "output_type": "execute_result"
    }
   ],
   "source": [
    "target_list = [(base_url + target) for target in target_list]"
   ]
  },
  {
   "cell_type": "code",
   "execution_count": null,
   "id": "95c7eada",
   "metadata": {},
   "outputs": [],
   "source": [
    "for url in target_list:\n",
    "    article_info = {}\n",
    "    r = requests.get(url)\n",
    "    soup = bs(r.content, 'html.parser')\n",
    "    blog_info['title'] = soup.find('span', attrs = {'itemprop':'headline'}).text\n",
    "    blog_info['content'] = soup.find('div', attrs = {'itemprop' : 'articleBody'}).text.strip()\n",
    "    blog_info['category'] = soup.find('span', attrs = {'class' : 'published'}).text\n",
    "    blogs_info.append(blog_info)"
   ]
  }
 ],
 "metadata": {
  "kernelspec": {
   "display_name": "Python 3 (ipykernel)",
   "language": "python",
   "name": "python3"
  },
  "language_info": {
   "codemirror_mode": {
    "name": "ipython",
    "version": 3
   },
   "file_extension": ".py",
   "mimetype": "text/x-python",
   "name": "python",
   "nbconvert_exporter": "python",
   "pygments_lexer": "ipython3",
   "version": "3.9.7"
  }
 },
 "nbformat": 4,
 "nbformat_minor": 5
}
